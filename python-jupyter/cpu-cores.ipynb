{
 "cells": [
  {
   "cell_type": "code",
   "execution_count": 13,
   "id": "c73a73fe-3fec-4bb0-afca-2e29c31bebee",
   "metadata": {
    "tags": []
   },
   "outputs": [],
   "source": [
    "inputs = \"1-17,41-57,20-36,60-76\""
   ]
  },
  {
   "cell_type": "code",
   "execution_count": 27,
   "id": "393551f7-33c8-4a6d-9751-fdd16908d8bf",
   "metadata": {
    "tags": []
   },
   "outputs": [],
   "source": [
    "result = []\n",
    "for i in inputs.split(\",\"):\n",
    "    l = i.split(\"-\")\n",
    "    start, end = l[0], l[1]\n",
    "    result += list(range(int(start),int(end)+1))"
   ]
  },
  {
   "cell_type": "code",
   "execution_count": 28,
   "id": "a007bbaf-3372-4e49-a5d6-bb8c4fb2c00c",
   "metadata": {
    "tags": []
   },
   "outputs": [
    {
     "data": {
      "text/plain": [
       "'1,2,3,4,5,6,7,8,9,10,11,12,13,14,15,16,17,41,42,43,44,45,46,47,48,49,50,51,52,53,54,55,56,57,20,21,22,23,24,25,26,27,28,29,30,31,32,33,34,35,36,60,61,62,63,64,65,66,67,68,69,70,71,72,73,74,75,76'"
      ]
     },
     "execution_count": 28,
     "metadata": {},
     "output_type": "execute_result"
    }
   ],
   "source": [
    "\",\".join(map(lambda x: str(x), result))"
   ]
  },
  {
   "cell_type": "code",
   "execution_count": null,
   "id": "9a059740-5522-43c3-92ec-175085ccc2d4",
   "metadata": {},
   "outputs": [],
   "source": []
  }
 ],
 "metadata": {
  "kernelspec": {
   "display_name": "Python 3 (ipykernel)",
   "language": "python",
   "name": "python3"
  },
  "language_info": {
   "codemirror_mode": {
    "name": "ipython",
    "version": 3
   },
   "file_extension": ".py",
   "mimetype": "text/x-python",
   "name": "python",
   "nbconvert_exporter": "python",
   "pygments_lexer": "ipython3",
   "version": "3.11.0"
  }
 },
 "nbformat": 4,
 "nbformat_minor": 5
}
